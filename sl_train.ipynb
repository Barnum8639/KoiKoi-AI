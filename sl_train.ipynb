{
 "cells": [
  {
   "cell_type": "code",
   "execution_count": null,
   "metadata": {},
   "outputs": [],
   "source": [
    "%run sl_record_to_dataset.py"
   ]
  },
  {
   "cell_type": "code",
   "execution_count": null,
   "metadata": {},
   "outputs": [],
   "source": [
    "from sl_train import *"
   ]
  },
  {
   "cell_type": "code",
   "execution_count": null,
   "metadata": {},
   "outputs": [],
   "source": [
    "for path in ['dataset','dataset/discard','dataset/pick','dataset/koikoi','model_sl']:\n",
    "    if not os.path.isdir(path):\n",
    "        os.mkdir(path)"
   ]
  },
  {
   "cell_type": "code",
   "execution_count": null,
   "metadata": {},
   "outputs": [],
   "source": []
  },
  {
   "cell_type": "code",
   "execution_count": null,
   "metadata": {},
   "outputs": [],
   "source": [
    "k_fold = 5\n",
    "test_fold = 4 # 0, 1, 2, 3, 4"
   ]
  },
  {
   "cell_type": "code",
   "execution_count": null,
   "metadata": {},
   "outputs": [],
   "source": [
    "task_name = 'discard'\n",
    "dataset_path = f'dataset/{task_name}/'\n",
    "net_model = {'discard':DiscardModel,'pick':PickModel,'koikoi':KoiKoiModel}[task_name]\n",
    "trained_model_path = None"
   ]
  },
  {
   "cell_type": "code",
   "execution_count": null,
   "metadata": {},
   "outputs": [],
   "source": [
    "trainer = KoiKoiSLTrainer(task_name)"
   ]
  },
  {
   "cell_type": "code",
   "execution_count": null,
   "metadata": {},
   "outputs": [
    {
     "name": "stdout",
     "output_type": "stream",
     "text": [
      "Loading train dataset...\n",
      "1000 samples loaded...\n",
      "2000 samples loaded...\n",
      "3000 samples loaded...\n",
      "4000 samples loaded...\n",
      "5000 samples loaded...\n",
      "6000 samples loaded...\n",
      "7000 samples loaded...\n",
      "8000 samples loaded...\n",
      "9000 samples loaded...\n",
      "10000 samples loaded...\n",
      "11000 samples loaded...\n",
      "12000 samples loaded...\n",
      "13000 samples loaded...\n",
      "14000 samples loaded...\n",
      "All 14332 samples loaded over!\n",
      "Loading test dataset...\n",
      "1000 samples loaded...\n",
      "2000 samples loaded...\n",
      "3000 samples loaded...\n",
      "All 3489 samples loaded over!\n"
     ]
    }
   ],
   "source": [
    "trainer.init_dataset(dataset_path, k_fold=k_fold, test_fold=test_fold, batch_size=512)"
   ]
  },
  {
   "cell_type": "code",
   "execution_count": null,
   "metadata": {},
   "outputs": [],
   "source": [
    "trainer.init_model(net_model, trained_model_path)"
   ]
  },
  {
   "cell_type": "code",
   "execution_count": null,
   "metadata": {},
   "outputs": [
    {
     "name": "stdout",
     "output_type": "stream",
     "text": [
      "\n",
      "Epoch 1 train over, acc = 0.256, loss = 1.68684\n",
      "Epoch 1 test over, acc = 0.285, loss = 1.57922\n",
      "Model model_sl/discard_fold_5_4.pt saved!\n",
      "\n",
      "Epoch 2 train over, acc = 0.296, loss = 1.55713\n",
      "Epoch 2 test over, acc = 0.298, loss = 1.55124\n",
      "Model model_sl/discard_fold_5_4.pt saved!\n",
      "\n",
      "Epoch 3 train over, acc = 0.331, loss = 1.51743\n",
      "Epoch 3 test over, acc = 0.355, loss = 1.48247\n",
      "Model model_sl/discard_fold_5_4.pt saved!\n",
      "\n",
      "Epoch 4 train over, acc = 0.528, loss = 1.15887\n",
      "Epoch 4 test over, acc = 0.653, loss = 0.85034\n",
      "Model model_sl/discard_fold_5_4.pt saved!\n",
      "\n",
      "Epoch 5 train over, acc = 0.664, loss = 0.82785\n",
      "Epoch 5 test over, acc = 0.682, loss = 0.76619\n",
      "Model model_sl/discard_fold_5_4.pt saved!\n",
      "\n",
      "Epoch 6 train over, acc = 0.691, loss = 0.76010\n",
      "Epoch 6 test over, acc = 0.700, loss = 0.72961\n",
      "Model model_sl/discard_fold_5_4.pt saved!\n",
      "\n",
      "Epoch 7 train over, acc = 0.716, loss = 0.70455\n",
      "Epoch 7 test over, acc = 0.702, loss = 0.72589\n",
      "Model model_sl/discard_fold_5_4.pt saved!\n",
      "\n",
      "Epoch 8 train over, acc = 0.735, loss = 0.66427\n",
      "Epoch 8 test over, acc = 0.704, loss = 0.70918\n",
      "Model model_sl/discard_fold_5_4.pt saved!\n",
      "\n",
      "Epoch 9 train over, acc = 0.743, loss = 0.63845\n",
      "Epoch 9 test over, acc = 0.710, loss = 0.70799\n",
      "Model model_sl/discard_fold_5_4.pt saved!\n",
      "\n",
      "Epoch 10 train over, acc = 0.749, loss = 0.61951\n",
      "Epoch 10 test over, acc = 0.715, loss = 0.70457\n",
      "Model model_sl/discard_fold_5_4.pt saved!\n",
      "\n",
      "Epoch 11 train over, acc = 0.764, loss = 0.59144\n",
      "Epoch 11 test over, acc = 0.715, loss = 0.70945\n",
      "Model model_sl/discard_fold_5_4.pt saved!\n",
      "\n",
      "Epoch 12 train over, acc = 0.769, loss = 0.57745\n",
      "Epoch 12 test over, acc = 0.710, loss = 0.71632\n",
      "\n",
      "Epoch 13 train over, acc = 0.779, loss = 0.55122\n",
      "Epoch 13 test over, acc = 0.707, loss = 0.71986\n",
      "\n",
      "Epoch 14 train over, acc = 0.794, loss = 0.51729\n",
      "Epoch 14 test over, acc = 0.711, loss = 0.74770\n",
      "\n",
      "Epoch 15 train over, acc = 0.798, loss = 0.50296\n",
      "Epoch 15 test over, acc = 0.711, loss = 0.74362\n",
      "\n",
      "Epoch 16 train over, acc = 0.804, loss = 0.48679\n",
      "Epoch 16 test over, acc = 0.700, loss = 0.78685\n",
      "\n",
      "Epoch 17 train over, acc = 0.813, loss = 0.46944\n",
      "Epoch 17 test over, acc = 0.705, loss = 0.76559\n",
      "\n",
      "Epoch 18 train over, acc = 0.819, loss = 0.45883\n",
      "Epoch 18 test over, acc = 0.710, loss = 0.78941\n",
      "\n",
      "Epoch 19 train over, acc = 0.826, loss = 0.43805\n",
      "Epoch 19 test over, acc = 0.713, loss = 0.79754\n",
      "\n",
      "Epoch 20 train over, acc = 0.841, loss = 0.41022\n",
      "Epoch 20 test over, acc = 0.709, loss = 0.78988\n"
     ]
    }
   ],
   "source": [
    "trainer.train(epoch_num=20)"
   ]
  },
  {
   "cell_type": "code",
   "execution_count": null,
   "metadata": {},
   "outputs": [],
   "source": []
  },
  {
   "cell_type": "code",
   "execution_count": null,
   "metadata": {},
   "outputs": [],
   "source": [
    "k_fold = 5\n",
    "test_fold = 4 # 0, 1, 2, 3, 4"
   ]
  },
  {
   "cell_type": "code",
   "execution_count": null,
   "metadata": {},
   "outputs": [],
   "source": [
    "task_name = 'pick'\n",
    "dataset_path = f'dataset/{task_name}/'\n",
    "net_model = {'discard':DiscardModel,'pick':PickModel,'koikoi':KoiKoiModel}[task_name]\n",
    "trained_model_path = None"
   ]
  },
  {
   "cell_type": "code",
   "execution_count": null,
   "metadata": {},
   "outputs": [],
   "source": [
    "trainer = KoiKoiSLTrainer(task_name)"
   ]
  },
  {
   "cell_type": "code",
   "execution_count": null,
   "metadata": {},
   "outputs": [
    {
     "name": "stdout",
     "output_type": "stream",
     "text": [
      "Loading train dataset...\n",
      "1000 samples loaded...\n",
      "All 1491 samples loaded over!\n",
      "Loading test dataset...\n",
      "All 355 samples loaded over!\n"
     ]
    }
   ],
   "source": [
    "trainer.init_dataset(dataset_path, k_fold=k_fold, test_fold=test_fold, batch_size=256)"
   ]
  },
  {
   "cell_type": "code",
   "execution_count": null,
   "metadata": {},
   "outputs": [],
   "source": [
    "trainer.init_model(net_model, trained_model_path)"
   ]
  },
  {
   "cell_type": "code",
   "execution_count": null,
   "metadata": {},
   "outputs": [
    {
     "name": "stdout",
     "output_type": "stream",
     "text": [
      "\n",
      "Epoch 1 train over, acc = 0.554, loss = 1.28303\n",
      "Epoch 1 test over, acc = 0.777, loss = 0.47281\n",
      "Model model_sl/pick_fold_5_4.pt saved!\n",
      "\n",
      "Epoch 2 train over, acc = 0.766, loss = 0.46292\n",
      "Epoch 2 test over, acc = 0.789, loss = 0.44407\n",
      "Model model_sl/pick_fold_5_4.pt saved!\n",
      "\n",
      "Epoch 3 train over, acc = 0.801, loss = 0.41664\n",
      "Epoch 3 test over, acc = 0.775, loss = 0.45282\n",
      "\n",
      "Epoch 4 train over, acc = 0.795, loss = 0.38504\n",
      "Epoch 4 test over, acc = 0.792, loss = 0.42064\n",
      "Model model_sl/pick_fold_5_4.pt saved!\n",
      "\n",
      "Epoch 5 train over, acc = 0.841, loss = 0.32431\n",
      "Epoch 5 test over, acc = 0.814, loss = 0.41806\n",
      "Model model_sl/pick_fold_5_4.pt saved!\n",
      "\n",
      "Epoch 6 train over, acc = 0.865, loss = 0.28132\n",
      "Epoch 6 test over, acc = 0.783, loss = 0.49136\n",
      "\n",
      "Epoch 7 train over, acc = 0.858, loss = 0.27412\n",
      "Epoch 7 test over, acc = 0.780, loss = 0.46336\n",
      "\n",
      "Epoch 8 train over, acc = 0.887, loss = 0.21861\n",
      "Epoch 8 test over, acc = 0.727, loss = 0.72100\n",
      "\n",
      "Epoch 9 train over, acc = 0.883, loss = 0.24873\n",
      "Epoch 9 test over, acc = 0.724, loss = 0.53485\n",
      "\n",
      "Epoch 10 train over, acc = 0.887, loss = 0.22972\n",
      "Epoch 10 test over, acc = 0.783, loss = 0.53885\n",
      "\n",
      "Epoch 11 train over, acc = 0.924, loss = 0.17356\n",
      "Epoch 11 test over, acc = 0.825, loss = 0.47316\n",
      "Model model_sl/pick_fold_5_4.pt saved!\n",
      "\n",
      "Epoch 12 train over, acc = 0.927, loss = 0.14714\n",
      "Epoch 12 test over, acc = 0.777, loss = 0.68055\n",
      "\n",
      "Epoch 13 train over, acc = 0.943, loss = 0.11366\n",
      "Epoch 13 test over, acc = 0.786, loss = 0.50798\n",
      "\n",
      "Epoch 14 train over, acc = 0.944, loss = 0.11909\n",
      "Epoch 14 test over, acc = 0.800, loss = 0.64015\n",
      "\n",
      "Epoch 15 train over, acc = 0.940, loss = 0.10906\n",
      "Epoch 15 test over, acc = 0.800, loss = 0.61129\n",
      "\n",
      "Epoch 16 train over, acc = 0.943, loss = 0.10495\n",
      "Epoch 16 test over, acc = 0.783, loss = 0.63514\n",
      "\n",
      "Epoch 17 train over, acc = 0.947, loss = 0.10487\n",
      "Epoch 17 test over, acc = 0.755, loss = 0.71574\n",
      "\n",
      "Epoch 18 train over, acc = 0.955, loss = 0.09433\n",
      "Epoch 18 test over, acc = 0.783, loss = 0.73822\n",
      "\n",
      "Epoch 19 train over, acc = 0.952, loss = 0.09083\n",
      "Epoch 19 test over, acc = 0.780, loss = 0.76409\n",
      "\n",
      "Epoch 20 train over, acc = 0.938, loss = 0.09624\n",
      "Epoch 20 test over, acc = 0.783, loss = 0.76654\n"
     ]
    }
   ],
   "source": [
    "trainer.train(epoch_num=20)"
   ]
  },
  {
   "cell_type": "code",
   "execution_count": null,
   "metadata": {},
   "outputs": [],
   "source": []
  },
  {
   "cell_type": "code",
   "execution_count": null,
   "metadata": {},
   "outputs": [],
   "source": [
    "k_fold = 5\n",
    "test_fold = 4 # 0, 1, 2, 3, 4"
   ]
  },
  {
   "cell_type": "code",
   "execution_count": null,
   "metadata": {},
   "outputs": [],
   "source": [
    "task_name = 'koikoi'\n",
    "dataset_path = f'dataset/{task_name}/'\n",
    "net_model = {'discard':DiscardModel,'pick':PickModel,'koikoi':KoiKoiModel}[task_name]\n",
    "trained_model_path = None"
   ]
  },
  {
   "cell_type": "code",
   "execution_count": null,
   "metadata": {},
   "outputs": [],
   "source": [
    "trainer = KoiKoiSLTrainer(task_name)"
   ]
  },
  {
   "cell_type": "code",
   "execution_count": null,
   "metadata": {},
   "outputs": [
    {
     "name": "stdout",
     "output_type": "stream",
     "text": [
      "Loading train dataset...\n",
      "1000 samples loaded...\n",
      "All 1419 samples loaded over!\n",
      "Loading test dataset...\n",
      "All 349 samples loaded over!\n"
     ]
    }
   ],
   "source": [
    "trainer.init_dataset(dataset_path, k_fold=k_fold, test_fold=test_fold, batch_size=256)"
   ]
  },
  {
   "cell_type": "code",
   "execution_count": null,
   "metadata": {},
   "outputs": [],
   "source": [
    "trainer.init_model(net_model, trained_model_path)"
   ]
  },
  {
   "cell_type": "code",
   "execution_count": null,
   "metadata": {},
   "outputs": [
    {
     "name": "stdout",
     "output_type": "stream",
     "text": [
      "\n",
      "Epoch 1 train over, acc = 0.652, loss = 0.92552\n",
      "Epoch 1 test over, acc = 0.573, loss = 0.68159\n",
      "Model model_sl/koikoi_fold_5_4.pt saved!\n",
      "\n",
      "Epoch 2 train over, acc = 0.683, loss = 0.64352\n",
      "Epoch 2 test over, acc = 0.711, loss = 0.59774\n",
      "Model model_sl/koikoi_fold_5_4.pt saved!\n",
      "\n",
      "Epoch 3 train over, acc = 0.716, loss = 0.58316\n",
      "Epoch 3 test over, acc = 0.711, loss = 0.56520\n",
      "\n",
      "Epoch 4 train over, acc = 0.730, loss = 0.54120\n",
      "Epoch 4 test over, acc = 0.731, loss = 0.55535\n",
      "Model model_sl/koikoi_fold_5_4.pt saved!\n",
      "\n",
      "Epoch 5 train over, acc = 0.734, loss = 0.52599\n",
      "Epoch 5 test over, acc = 0.751, loss = 0.54385\n",
      "Model model_sl/koikoi_fold_5_4.pt saved!\n",
      "\n",
      "Epoch 6 train over, acc = 0.753, loss = 0.49779\n",
      "Epoch 6 test over, acc = 0.728, loss = 0.54714\n",
      "\n",
      "Epoch 7 train over, acc = 0.776, loss = 0.45952\n",
      "Epoch 7 test over, acc = 0.745, loss = 0.53302\n",
      "\n",
      "Epoch 8 train over, acc = 0.786, loss = 0.42195\n",
      "Epoch 8 test over, acc = 0.739, loss = 0.57152\n",
      "\n",
      "Epoch 9 train over, acc = 0.826, loss = 0.37076\n",
      "Epoch 9 test over, acc = 0.679, loss = 0.57392\n",
      "\n",
      "Epoch 10 train over, acc = 0.846, loss = 0.33175\n",
      "Epoch 10 test over, acc = 0.748, loss = 0.79411\n",
      "\n",
      "Epoch 11 train over, acc = 0.841, loss = 0.31844\n",
      "Epoch 11 test over, acc = 0.739, loss = 0.56309\n",
      "\n",
      "Epoch 12 train over, acc = 0.868, loss = 0.28258\n",
      "Epoch 12 test over, acc = 0.754, loss = 0.66317\n",
      "Model model_sl/koikoi_fold_5_4.pt saved!\n",
      "\n",
      "Epoch 13 train over, acc = 0.900, loss = 0.23313\n",
      "Epoch 13 test over, acc = 0.748, loss = 0.82341\n",
      "\n",
      "Epoch 14 train over, acc = 0.941, loss = 0.15750\n",
      "Epoch 14 test over, acc = 0.779, loss = 1.05549\n",
      "Model model_sl/koikoi_fold_5_4.pt saved!\n",
      "\n",
      "Epoch 15 train over, acc = 0.913, loss = 0.20778\n",
      "Epoch 15 test over, acc = 0.782, loss = 0.79897\n",
      "Model model_sl/koikoi_fold_5_4.pt saved!\n",
      "\n",
      "Epoch 16 train over, acc = 0.934, loss = 0.16332\n",
      "Epoch 16 test over, acc = 0.765, loss = 0.68019\n",
      "\n",
      "Epoch 17 train over, acc = 0.958, loss = 0.11275\n",
      "Epoch 17 test over, acc = 0.768, loss = 1.24941\n",
      "\n",
      "Epoch 18 train over, acc = 0.953, loss = 0.11427\n",
      "Epoch 18 test over, acc = 0.759, loss = 0.85271\n",
      "\n",
      "Epoch 19 train over, acc = 0.945, loss = 0.13505\n",
      "Epoch 19 test over, acc = 0.711, loss = 0.86491\n",
      "\n",
      "Epoch 20 train over, acc = 0.959, loss = 0.11482\n",
      "Epoch 20 test over, acc = 0.734, loss = 1.00887\n"
     ]
    }
   ],
   "source": [
    "trainer.train(epoch_num=20)"
   ]
  },
  {
   "cell_type": "code",
   "execution_count": null,
   "metadata": {},
   "outputs": [],
   "source": []
  },
  {
   "cell_type": "code",
   "execution_count": null,
   "metadata": {},
   "outputs": [
    {
     "name": "stdout",
     "output_type": "stream",
     "text": [
      "1000 samples processed...\n",
      "2000 samples processed...\n",
      "3000 samples processed...\n",
      "4000 samples processed...\n",
      "5000 samples processed...\n",
      "6000 samples processed...\n",
      "7000 samples processed...\n",
      "8000 samples processed...\n",
      "9000 samples processed...\n",
      "10000 samples processed...\n",
      "11000 samples processed...\n",
      "12000 samples processed...\n",
      "13000 samples processed...\n",
      "14000 samples processed...\n",
      "15000 samples processed...\n",
      "16000 samples processed...\n",
      "17000 samples processed...\n",
      "All 17821 samples processed over!\n",
      "\n",
      "discard model\n",
      "Accuracy: 13186/17821 = 0.7399135850962347\n",
      "Fine Accuracy: 13188/17821 = 0.7400258122439818\n"
     ]
    }
   ],
   "source": [
    "%run sl_acc_stat.py discard"
   ]
  },
  {
   "cell_type": "code",
   "execution_count": null,
   "metadata": {},
   "outputs": [
    {
     "name": "stdout",
     "output_type": "stream",
     "text": [
      "1000 samples processed...\n",
      "All 1846 samples processed over!\n",
      "\n",
      "pick model\n",
      "Accuracy: 1667/1846 = 0.9030335861321777\n",
      "Fine Accuracy: 1667/1846 = 0.9030335861321777\n"
     ]
    }
   ],
   "source": [
    "%run sl_acc_stat.py pick"
   ]
  },
  {
   "cell_type": "code",
   "execution_count": null,
   "metadata": {},
   "outputs": [
    {
     "name": "stdout",
     "output_type": "stream",
     "text": [
      "1000 samples processed...\n",
      "All 1768 samples processed over!\n",
      "\n",
      "koikoi model\n",
      "Accuracy: 1418/1768 = 0.8020361990950227\n",
      "Fine Accuracy: 1418/1768 = 0.8020361990950227\n"
     ]
    }
   ],
   "source": [
    "%run sl_acc_stat.py koikoi"
   ]
  },
  {
   "cell_type": "code",
   "execution_count": null,
   "metadata": {},
   "outputs": [],
   "source": []
  }
 ],
 "metadata": {
  "kernelspec": {
   "display_name": "myconda",
   "language": "python",
   "name": "myconda"
  },
  "language_info": {
   "codemirror_mode": {
    "name": "ipython",
    "version": 3
   },
   "file_extension": ".py",
   "mimetype": "text/x-python",
   "name": "python",
   "nbconvert_exporter": "python",
   "pygments_lexer": "ipython3",
   "version": "3.7.10"
  }
 },
 "nbformat": 4,
 "nbformat_minor": 4
}
