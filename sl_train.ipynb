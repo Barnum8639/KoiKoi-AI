{
 "cells": [
  {
   "cell_type": "code",
   "execution_count": null,
   "metadata": {},
   "outputs": [],
   "source": [
    "%run record_to_dataset.py"
   ]
  },
  {
   "cell_type": "code",
   "execution_count": 1,
   "metadata": {},
   "outputs": [],
   "source": [
    "from sl_train import *"
   ]
  },
  {
   "cell_type": "code",
   "execution_count": null,
   "metadata": {},
   "outputs": [],
   "source": []
  },
  {
   "cell_type": "code",
   "execution_count": 15,
   "metadata": {},
   "outputs": [],
   "source": [
    "task_name = 'discard'\n",
    "dataset_path = f'dataset/{task_name}/'\n",
    "net_model = {'discard':DiscardModel,'pick':PickModel,'koikoi':KoiKoiModel}[task_name]\n",
    "trained_model_path = None"
   ]
  },
  {
   "cell_type": "code",
   "execution_count": 15,
   "metadata": {},
   "outputs": [],
   "source": [
    "trainer = KoiKoiSLTrainer(task_name)"
   ]
  },
  {
   "cell_type": "code",
   "execution_count": 16,
   "metadata": {},
   "outputs": [
    {
     "name": "stdout",
     "output_type": "stream",
     "text": [
      "Loading train dataset...\n",
      "1000 samples loaded...\n",
      "2000 samples loaded...\n",
      "3000 samples loaded...\n",
      "4000 samples loaded...\n",
      "5000 samples loaded...\n",
      "6000 samples loaded...\n",
      "7000 samples loaded...\n",
      "8000 samples loaded...\n",
      "9000 samples loaded...\n",
      "10000 samples loaded...\n",
      "11000 samples loaded...\n",
      "12000 samples loaded...\n",
      "13000 samples loaded...\n",
      "14000 samples loaded...\n",
      "All 14177 samples loaded over!\n",
      "Loading test dataset...\n",
      "1000 samples loaded...\n",
      "2000 samples loaded...\n",
      "3000 samples loaded...\n",
      "All 3644 samples loaded over!\n"
     ]
    }
   ],
   "source": [
    "trainer.init_dataset(dataset_path, k_fold=5, test_fold=0, batch_size=512)"
   ]
  },
  {
   "cell_type": "code",
   "execution_count": 19,
   "metadata": {},
   "outputs": [],
   "source": [
    "trainer.init_model(net_model, trained_model_path)"
   ]
  },
  {
   "cell_type": "code",
   "execution_count": 20,
   "metadata": {},
   "outputs": [
    {
     "name": "stdout",
     "output_type": "stream",
     "text": [
      "\n",
      "Epoch 1 train over, acc = 0.249, loss = 1.69595\n",
      "Epoch 1 test over, acc = 0.287, loss = 1.55689\n",
      "Model trained_model/discard_fold_5_0.pt saved!\n",
      "\n",
      "Epoch 2 train over, acc = 0.291, loss = 1.55887\n",
      "Epoch 2 test over, acc = 0.302, loss = 1.54585\n",
      "Model trained_model/discard_fold_5_0.pt saved!\n",
      "\n",
      "Epoch 3 train over, acc = 0.336, loss = 1.49952\n",
      "Epoch 3 test over, acc = 0.415, loss = 1.38278\n",
      "Model trained_model/discard_fold_5_0.pt saved!\n",
      "\n",
      "Epoch 4 train over, acc = 0.562, loss = 1.09347\n",
      "Epoch 4 test over, acc = 0.661, loss = 0.83861\n",
      "Model trained_model/discard_fold_5_0.pt saved!\n",
      "\n",
      "Epoch 5 train over, acc = 0.676, loss = 0.79625\n",
      "Epoch 5 test over, acc = 0.683, loss = 0.76446\n",
      "Model trained_model/discard_fold_5_0.pt saved!\n",
      "\n",
      "Epoch 6 train over, acc = 0.700, loss = 0.73390\n",
      "Epoch 6 test over, acc = 0.694, loss = 0.75821\n",
      "Model trained_model/discard_fold_5_0.pt saved!\n",
      "\n",
      "Epoch 7 train over, acc = 0.719, loss = 0.69400\n",
      "Epoch 7 test over, acc = 0.712, loss = 0.73252\n",
      "Model trained_model/discard_fold_5_0.pt saved!\n",
      "\n",
      "Epoch 8 train over, acc = 0.738, loss = 0.64545\n",
      "Epoch 8 test over, acc = 0.714, loss = 0.71050\n",
      "Model trained_model/discard_fold_5_0.pt saved!\n",
      "\n",
      "Epoch 9 train over, acc = 0.752, loss = 0.61166\n",
      "Epoch 9 test over, acc = 0.709, loss = 0.71622\n",
      "\n",
      "Epoch 10 train over, acc = 0.759, loss = 0.59188\n",
      "Epoch 10 test over, acc = 0.710, loss = 0.71939\n",
      "\n",
      "Epoch 11 train over, acc = 0.769, loss = 0.57229\n",
      "Epoch 11 test over, acc = 0.711, loss = 0.73466\n",
      "\n",
      "Epoch 12 train over, acc = 0.781, loss = 0.55172\n",
      "Epoch 12 test over, acc = 0.715, loss = 0.74240\n",
      "Model trained_model/discard_fold_5_0.pt saved!\n",
      "\n",
      "Epoch 13 train over, acc = 0.785, loss = 0.53496\n",
      "Epoch 13 test over, acc = 0.719, loss = 0.75847\n",
      "Model trained_model/discard_fold_5_0.pt saved!\n",
      "\n",
      "Epoch 14 train over, acc = 0.798, loss = 0.50633\n",
      "Epoch 14 test over, acc = 0.718, loss = 0.79945\n",
      "\n",
      "Epoch 15 train over, acc = 0.803, loss = 0.49073\n",
      "Epoch 15 test over, acc = 0.707, loss = 0.78899\n",
      "\n",
      "Epoch 16 train over, acc = 0.815, loss = 0.46743\n",
      "Epoch 16 test over, acc = 0.706, loss = 0.82331\n",
      "\n",
      "Epoch 17 train over, acc = 0.820, loss = 0.45418\n",
      "Epoch 17 test over, acc = 0.709, loss = 0.79508\n",
      "\n",
      "Epoch 18 train over, acc = 0.818, loss = 0.44553\n",
      "Epoch 18 test over, acc = 0.711, loss = 0.80995\n",
      "\n",
      "Epoch 19 train over, acc = 0.839, loss = 0.40456\n",
      "Epoch 19 test over, acc = 0.703, loss = 0.89165\n",
      "\n",
      "Epoch 20 train over, acc = 0.847, loss = 0.38123\n",
      "Epoch 20 test over, acc = 0.699, loss = 0.89828\n"
     ]
    }
   ],
   "source": [
    "trainer.train(epoch_num=20)"
   ]
  },
  {
   "cell_type": "code",
   "execution_count": null,
   "metadata": {},
   "outputs": [],
   "source": []
  },
  {
   "cell_type": "code",
   "execution_count": 23,
   "metadata": {},
   "outputs": [],
   "source": [
    "task_name = 'pick'\n",
    "dataset_path = f'dataset/{task_name}/'\n",
    "net_model = {'discard':DiscardModel,'pick':PickModel,'koikoi':KoiKoiModel}[task_name]\n",
    "trained_model_path = 'trained_model/discard_fold_5_0.pt'"
   ]
  },
  {
   "cell_type": "code",
   "execution_count": 24,
   "metadata": {},
   "outputs": [],
   "source": [
    "trainer = KoiKoiSLTrainer(task_name)"
   ]
  },
  {
   "cell_type": "code",
   "execution_count": 34,
   "metadata": {},
   "outputs": [
    {
     "name": "stdout",
     "output_type": "stream",
     "text": [
      "Loading train dataset...\n",
      "1000 samples loaded...\n",
      "All 1471 samples loaded over!\n",
      "Loading test dataset...\n",
      "All 375 samples loaded over!\n"
     ]
    }
   ],
   "source": [
    "trainer.init_dataset(dataset_path, k_fold=5, test_fold=0, batch_size=512)"
   ]
  },
  {
   "cell_type": "code",
   "execution_count": 37,
   "metadata": {},
   "outputs": [
    {
     "name": "stdout",
     "output_type": "stream",
     "text": [
      "Trained model trained_model/discard_fold_5_0.pt loaded!\n"
     ]
    }
   ],
   "source": [
    "trainer.init_model(net_model, trained_model_path)"
   ]
  },
  {
   "cell_type": "code",
   "execution_count": 38,
   "metadata": {},
   "outputs": [
    {
     "name": "stdout",
     "output_type": "stream",
     "text": [
      "\n",
      "Epoch 1 train over, acc = 0.123, loss = 3.51841\n",
      "Epoch 1 test over, acc = 0.419, loss = 1.81023\n",
      "Model trained_model/pick_fold_5_0.pt saved!\n",
      "\n",
      "Epoch 2 train over, acc = 0.507, loss = 1.51475\n",
      "Epoch 2 test over, acc = 0.709, loss = 0.81365\n",
      "Model trained_model/pick_fold_5_0.pt saved!\n",
      "\n",
      "Epoch 3 train over, acc = 0.696, loss = 0.79659\n",
      "Epoch 3 test over, acc = 0.747, loss = 0.54120\n",
      "Model trained_model/pick_fold_5_0.pt saved!\n",
      "\n",
      "Epoch 4 train over, acc = 0.770, loss = 0.51927\n",
      "Epoch 4 test over, acc = 0.763, loss = 0.47864\n",
      "Model trained_model/pick_fold_5_0.pt saved!\n",
      "\n",
      "Epoch 5 train over, acc = 0.779, loss = 0.43174\n",
      "Epoch 5 test over, acc = 0.768, loss = 0.49140\n",
      "Model trained_model/pick_fold_5_0.pt saved!\n",
      "\n",
      "Epoch 6 train over, acc = 0.786, loss = 0.42853\n",
      "Epoch 6 test over, acc = 0.760, loss = 0.50980\n",
      "\n",
      "Epoch 7 train over, acc = 0.792, loss = 0.40726\n",
      "Epoch 7 test over, acc = 0.755, loss = 0.48534\n",
      "\n",
      "Epoch 8 train over, acc = 0.826, loss = 0.36007\n",
      "Epoch 8 test over, acc = 0.749, loss = 0.50013\n",
      "\n",
      "Epoch 9 train over, acc = 0.822, loss = 0.36649\n",
      "Epoch 9 test over, acc = 0.755, loss = 0.50418\n",
      "\n",
      "Epoch 10 train over, acc = 0.838, loss = 0.34267\n",
      "Epoch 10 test over, acc = 0.771, loss = 0.49336\n",
      "Model trained_model/pick_fold_5_0.pt saved!\n",
      "\n",
      "Epoch 11 train over, acc = 0.838, loss = 0.33097\n",
      "Epoch 11 test over, acc = 0.776, loss = 0.47669\n",
      "Model trained_model/pick_fold_5_0.pt saved!\n",
      "\n",
      "Epoch 12 train over, acc = 0.852, loss = 0.29489\n",
      "Epoch 12 test over, acc = 0.773, loss = 0.50526\n",
      "\n",
      "Epoch 13 train over, acc = 0.855, loss = 0.28033\n",
      "Epoch 13 test over, acc = 0.771, loss = 0.53298\n",
      "\n",
      "Epoch 14 train over, acc = 0.870, loss = 0.26004\n",
      "Epoch 14 test over, acc = 0.781, loss = 0.52079\n",
      "Model trained_model/pick_fold_5_0.pt saved!\n",
      "\n",
      "Epoch 15 train over, acc = 0.846, loss = 0.27264\n",
      "Epoch 15 test over, acc = 0.779, loss = 0.50951\n"
     ]
    }
   ],
   "source": [
    "trainer.train(epoch_num=15)"
   ]
  },
  {
   "cell_type": "code",
   "execution_count": null,
   "metadata": {},
   "outputs": [],
   "source": []
  },
  {
   "cell_type": "code",
   "execution_count": 39,
   "metadata": {},
   "outputs": [],
   "source": [
    "task_name = 'koikoi'\n",
    "dataset_path = f'dataset/{task_name}/'\n",
    "net_model = {'discard':DiscardModel,'pick':PickModel,'koikoi':KoiKoiModel}[task_name]\n",
    "trained_model_path = 'trained_model/discard_fold_5_0.pt'"
   ]
  },
  {
   "cell_type": "code",
   "execution_count": 40,
   "metadata": {},
   "outputs": [],
   "source": [
    "trainer = KoiKoiSLTrainer(task_name)"
   ]
  },
  {
   "cell_type": "code",
   "execution_count": 41,
   "metadata": {},
   "outputs": [
    {
     "name": "stdout",
     "output_type": "stream",
     "text": [
      "Loading train dataset...\n",
      "1000 samples loaded...\n",
      "All 1422 samples loaded over!\n",
      "Loading test dataset...\n",
      "All 346 samples loaded over!\n"
     ]
    }
   ],
   "source": [
    "trainer.init_dataset(dataset_path, k_fold=5, test_fold=0, batch_size=512)"
   ]
  },
  {
   "cell_type": "code",
   "execution_count": 48,
   "metadata": {},
   "outputs": [
    {
     "name": "stdout",
     "output_type": "stream",
     "text": [
      "Trained model trained_model/discard_fold_5_0.pt loaded!\n"
     ]
    }
   ],
   "source": [
    "trainer.init_model(net_model, trained_model_path)"
   ]
  },
  {
   "cell_type": "code",
   "execution_count": 49,
   "metadata": {},
   "outputs": [
    {
     "name": "stdout",
     "output_type": "stream",
     "text": [
      "\n",
      "Epoch 1 train over, acc = 0.663, loss = 0.63790\n",
      "Epoch 1 test over, acc = 0.720, loss = 0.60665\n",
      "Model trained_model/koikoi_fold_5_0.pt saved!\n",
      "\n",
      "Epoch 2 train over, acc = 0.715, loss = 0.60696\n",
      "Epoch 2 test over, acc = 0.720, loss = 0.58313\n",
      "\n",
      "Epoch 3 train over, acc = 0.706, loss = 0.60029\n",
      "Epoch 3 test over, acc = 0.720, loss = 0.59044\n",
      "\n",
      "Epoch 4 train over, acc = 0.731, loss = 0.58425\n",
      "Epoch 4 test over, acc = 0.720, loss = 0.58058\n",
      "\n",
      "Epoch 5 train over, acc = 0.723, loss = 0.57573\n",
      "Epoch 5 test over, acc = 0.720, loss = 0.58317\n",
      "\n",
      "Epoch 6 train over, acc = 0.707, loss = 0.59442\n",
      "Epoch 6 test over, acc = 0.720, loss = 0.58224\n",
      "\n",
      "Epoch 7 train over, acc = 0.723, loss = 0.56214\n",
      "Epoch 7 test over, acc = 0.723, loss = 0.57004\n",
      "Model trained_model/koikoi_fold_5_0.pt saved!\n",
      "\n",
      "Epoch 8 train over, acc = 0.717, loss = 0.55571\n",
      "Epoch 8 test over, acc = 0.728, loss = 0.56295\n",
      "Model trained_model/koikoi_fold_5_0.pt saved!\n",
      "\n",
      "Epoch 9 train over, acc = 0.739, loss = 0.52816\n",
      "Epoch 9 test over, acc = 0.728, loss = 0.55285\n",
      "\n",
      "Epoch 10 train over, acc = 0.748, loss = 0.50553\n",
      "Epoch 10 test over, acc = 0.725, loss = 0.54742\n",
      "\n",
      "Epoch 11 train over, acc = 0.795, loss = 0.45359\n",
      "Epoch 11 test over, acc = 0.760, loss = 0.55534\n",
      "Model trained_model/koikoi_fold_5_0.pt saved!\n",
      "\n",
      "Epoch 12 train over, acc = 0.819, loss = 0.41538\n",
      "Epoch 12 test over, acc = 0.746, loss = 0.57647\n",
      "\n",
      "Epoch 13 train over, acc = 0.842, loss = 0.34853\n",
      "Epoch 13 test over, acc = 0.734, loss = 0.58783\n",
      "\n",
      "Epoch 14 train over, acc = 0.884, loss = 0.29436\n",
      "Epoch 14 test over, acc = 0.717, loss = 0.62784\n",
      "\n",
      "Epoch 15 train over, acc = 0.891, loss = 0.25878\n",
      "Epoch 15 test over, acc = 0.639, loss = 0.76168\n"
     ]
    }
   ],
   "source": [
    "trainer.train(epoch_num=15)"
   ]
  },
  {
   "cell_type": "code",
   "execution_count": null,
   "metadata": {},
   "outputs": [],
   "source": []
  }
 ],
 "metadata": {
  "kernelspec": {
   "display_name": "myconda",
   "language": "python",
   "name": "myconda"
  },
  "language_info": {
   "codemirror_mode": {
    "name": "ipython",
    "version": 3
   },
   "file_extension": ".py",
   "mimetype": "text/x-python",
   "name": "python",
   "nbconvert_exporter": "python",
   "pygments_lexer": "ipython3",
   "version": "3.8.5"
  }
 },
 "nbformat": 4,
 "nbformat_minor": 4
}
